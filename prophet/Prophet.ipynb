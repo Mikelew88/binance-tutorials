{
 "cells": [
  {
   "cell_type": "code",
   "execution_count": 1,
   "id": "e144128f",
   "metadata": {},
   "outputs": [
    {
     "name": "stderr",
     "output_type": "stream",
     "text": [
      "Importing plotly failed. Interactive plots will not work.\n"
     ]
    }
   ],
   "source": [
    "%matplotlib inline\n",
    "import pandas as pd\n",
    "from prophet import Prophet\n",
    "from datetime import datetime\n",
    "import matplotlib.pyplot as plt\n",
    "import numpy as np\n"
   ]
  },
  {
   "cell_type": "code",
   "execution_count": 2,
   "id": "1adaf0f9",
   "metadata": {},
   "outputs": [],
   "source": [
    "import config, csv\n",
    "from binance.client import Client\n",
    "\n",
    "client = Client(config.API_KEY, config.API_SECRET)\n",
    "\n",
    "candlesticks = client.get_historical_klines(\"ETHUSDT\", Client.KLINE_INTERVAL_15MINUTE, \"01 Jan, 2015\", \"20 Apr, 2021\")\n"
   ]
  },
  {
   "cell_type": "code",
   "execution_count": 3,
   "id": "15b22e31",
   "metadata": {},
   "outputs": [],
   "source": [
    "for candlestick in  candlesticks:\n",
    "    candlestick[0] = datetime.utcfromtimestamp(candlestick[0]/1000)\n",
    "    del candlestick[-1]\n",
    "\n"
   ]
  },
  {
   "cell_type": "code",
   "execution_count": 4,
   "id": "2a6852ef",
   "metadata": {},
   "outputs": [],
   "source": [
    "columns = [\n",
    "    'open_time',\n",
    "    'open',\n",
    "    'high',\n",
    "    'low',\n",
    "    'close',\n",
    "    'volume',\n",
    "    'close_time',\n",
    "    'quote_asset_volume',\n",
    "    'number_of_trades',\n",
    "    'taker_buy_base_asset_volume',\n",
    "    'taker_buy_quote_asset_volume'\n",
    "]"
   ]
  },
  {
   "cell_type": "code",
   "execution_count": 5,
   "id": "405070dd",
   "metadata": {},
   "outputs": [],
   "source": [
    "df = pd.DataFrame(candlesticks, columns = columns)"
   ]
  },
  {
   "cell_type": "code",
   "execution_count": 6,
   "id": "b60a2bc0",
   "metadata": {},
   "outputs": [
    {
     "data": {
      "text/html": [
       "<div>\n",
       "<style scoped>\n",
       "    .dataframe tbody tr th:only-of-type {\n",
       "        vertical-align: middle;\n",
       "    }\n",
       "\n",
       "    .dataframe tbody tr th {\n",
       "        vertical-align: top;\n",
       "    }\n",
       "\n",
       "    .dataframe thead th {\n",
       "        text-align: right;\n",
       "    }\n",
       "</style>\n",
       "<table border=\"1\" class=\"dataframe\">\n",
       "  <thead>\n",
       "    <tr style=\"text-align: right;\">\n",
       "      <th></th>\n",
       "      <th>open_time</th>\n",
       "      <th>open</th>\n",
       "      <th>high</th>\n",
       "      <th>low</th>\n",
       "      <th>close</th>\n",
       "      <th>volume</th>\n",
       "      <th>close_time</th>\n",
       "      <th>quote_asset_volume</th>\n",
       "      <th>number_of_trades</th>\n",
       "      <th>taker_buy_base_asset_volume</th>\n",
       "      <th>taker_buy_quote_asset_volume</th>\n",
       "    </tr>\n",
       "  </thead>\n",
       "  <tbody>\n",
       "    <tr>\n",
       "      <th>0</th>\n",
       "      <td>2017-08-17 04:00:00</td>\n",
       "      <td>301.13000000</td>\n",
       "      <td>301.13000000</td>\n",
       "      <td>298.00000000</td>\n",
       "      <td>298.00000000</td>\n",
       "      <td>5.80167000</td>\n",
       "      <td>1502943299999</td>\n",
       "      <td>1744.76610410</td>\n",
       "      <td>22</td>\n",
       "      <td>5.48392000</td>\n",
       "      <td>1649.44882410</td>\n",
       "    </tr>\n",
       "    <tr>\n",
       "      <th>1</th>\n",
       "      <td>2017-08-17 04:15:00</td>\n",
       "      <td>298.00000000</td>\n",
       "      <td>300.80000000</td>\n",
       "      <td>298.00000000</td>\n",
       "      <td>299.39000000</td>\n",
       "      <td>31.44065000</td>\n",
       "      <td>1502944199999</td>\n",
       "      <td>9396.91781270</td>\n",
       "      <td>26</td>\n",
       "      <td>12.11712000</td>\n",
       "      <td>3625.16705070</td>\n",
       "    </tr>\n",
       "    <tr>\n",
       "      <th>2</th>\n",
       "      <td>2017-08-17 04:30:00</td>\n",
       "      <td>299.39000000</td>\n",
       "      <td>300.79000000</td>\n",
       "      <td>299.39000000</td>\n",
       "      <td>299.60000000</td>\n",
       "      <td>52.93579000</td>\n",
       "      <td>1502945099999</td>\n",
       "      <td>15851.07541500</td>\n",
       "      <td>39</td>\n",
       "      <td>28.38159000</td>\n",
       "      <td>8499.79347700</td>\n",
       "    </tr>\n",
       "    <tr>\n",
       "      <th>3</th>\n",
       "      <td>2017-08-17 04:45:00</td>\n",
       "      <td>299.60000000</td>\n",
       "      <td>302.57000000</td>\n",
       "      <td>299.60000000</td>\n",
       "      <td>301.61000000</td>\n",
       "      <td>35.49066000</td>\n",
       "      <td>1502945999999</td>\n",
       "      <td>10692.04484920</td>\n",
       "      <td>42</td>\n",
       "      <td>34.58114000</td>\n",
       "      <td>10419.03143720</td>\n",
       "    </tr>\n",
       "    <tr>\n",
       "      <th>4</th>\n",
       "      <td>2017-08-17 05:00:00</td>\n",
       "      <td>301.61000000</td>\n",
       "      <td>302.57000000</td>\n",
       "      <td>300.95000000</td>\n",
       "      <td>302.01000000</td>\n",
       "      <td>81.69235000</td>\n",
       "      <td>1502946899999</td>\n",
       "      <td>24620.72475690</td>\n",
       "      <td>52</td>\n",
       "      <td>80.26344000</td>\n",
       "      <td>24189.75121180</td>\n",
       "    </tr>\n",
       "  </tbody>\n",
       "</table>\n",
       "</div>"
      ],
      "text/plain": [
       "            open_time          open          high           low         close  \\\n",
       "0 2017-08-17 04:00:00  301.13000000  301.13000000  298.00000000  298.00000000   \n",
       "1 2017-08-17 04:15:00  298.00000000  300.80000000  298.00000000  299.39000000   \n",
       "2 2017-08-17 04:30:00  299.39000000  300.79000000  299.39000000  299.60000000   \n",
       "3 2017-08-17 04:45:00  299.60000000  302.57000000  299.60000000  301.61000000   \n",
       "4 2017-08-17 05:00:00  301.61000000  302.57000000  300.95000000  302.01000000   \n",
       "\n",
       "        volume     close_time quote_asset_volume  number_of_trades  \\\n",
       "0   5.80167000  1502943299999      1744.76610410                22   \n",
       "1  31.44065000  1502944199999      9396.91781270                26   \n",
       "2  52.93579000  1502945099999     15851.07541500                39   \n",
       "3  35.49066000  1502945999999     10692.04484920                42   \n",
       "4  81.69235000  1502946899999     24620.72475690                52   \n",
       "\n",
       "  taker_buy_base_asset_volume taker_buy_quote_asset_volume  \n",
       "0                  5.48392000                1649.44882410  \n",
       "1                 12.11712000                3625.16705070  \n",
       "2                 28.38159000                8499.79347700  \n",
       "3                 34.58114000               10419.03143720  \n",
       "4                 80.26344000               24189.75121180  "
      ]
     },
     "execution_count": 6,
     "metadata": {},
     "output_type": "execute_result"
    }
   ],
   "source": [
    "df.head()"
   ]
  },
  {
   "cell_type": "code",
   "execution_count": 7,
   "id": "9943a0be",
   "metadata": {},
   "outputs": [],
   "source": [
    "data = df[['open_time', 'close']]\n",
    "data.columns = ['ds', 'y']"
   ]
  },
  {
   "cell_type": "code",
   "execution_count": 8,
   "id": "1e14de2b",
   "metadata": {},
   "outputs": [
    {
     "name": "stderr",
     "output_type": "stream",
     "text": [
      "<ipython-input-8-b5d26fbf5cb9>:1: SettingWithCopyWarning: \n",
      "A value is trying to be set on a copy of a slice from a DataFrame.\n",
      "Try using .loc[row_indexer,col_indexer] = value instead\n",
      "\n",
      "See the caveats in the documentation: https://pandas.pydata.org/pandas-docs/stable/user_guide/indexing.html#returning-a-view-versus-a-copy\n",
      "  data['y'] = data['y'].astype('float')\n"
     ]
    }
   ],
   "source": [
    "data['y'] = data['y'].astype('float')"
   ]
  },
  {
   "cell_type": "code",
   "execution_count": 9,
   "id": "c565e608",
   "metadata": {},
   "outputs": [],
   "source": [
    "train = data[data['ds']<'2021-03-01']\n",
    "test =  data[data['ds']>='2021-03-01']"
   ]
  },
  {
   "cell_type": "code",
   "execution_count": 10,
   "id": "e63a03b0",
   "metadata": {},
   "outputs": [
    {
     "data": {
      "text/plain": [
       "<prophet.forecaster.Prophet at 0x12857a940>"
      ]
     },
     "execution_count": 10,
     "metadata": {},
     "output_type": "execute_result"
    }
   ],
   "source": [
    "\n",
    "m = Prophet()\n",
    "\n",
    "m.fit(train)"
   ]
  },
  {
   "cell_type": "code",
   "execution_count": 11,
   "id": "0df3803d",
   "metadata": {},
   "outputs": [
    {
     "data": {
      "text/html": [
       "<div>\n",
       "<style scoped>\n",
       "    .dataframe tbody tr th:only-of-type {\n",
       "        vertical-align: middle;\n",
       "    }\n",
       "\n",
       "    .dataframe tbody tr th {\n",
       "        vertical-align: top;\n",
       "    }\n",
       "\n",
       "    .dataframe thead th {\n",
       "        text-align: right;\n",
       "    }\n",
       "</style>\n",
       "<table border=\"1\" class=\"dataframe\">\n",
       "  <thead>\n",
       "    <tr style=\"text-align: right;\">\n",
       "      <th></th>\n",
       "      <th>ds</th>\n",
       "      <th>y</th>\n",
       "    </tr>\n",
       "  </thead>\n",
       "  <tbody>\n",
       "    <tr>\n",
       "      <th>123519</th>\n",
       "      <td>2021-03-01 00:00:00</td>\n",
       "      <td>1421.99</td>\n",
       "    </tr>\n",
       "    <tr>\n",
       "      <th>123520</th>\n",
       "      <td>2021-03-01 00:15:00</td>\n",
       "      <td>1439.09</td>\n",
       "    </tr>\n",
       "    <tr>\n",
       "      <th>123521</th>\n",
       "      <td>2021-03-01 00:30:00</td>\n",
       "      <td>1443.44</td>\n",
       "    </tr>\n",
       "    <tr>\n",
       "      <th>123522</th>\n",
       "      <td>2021-03-01 00:45:00</td>\n",
       "      <td>1440.76</td>\n",
       "    </tr>\n",
       "    <tr>\n",
       "      <th>123523</th>\n",
       "      <td>2021-03-01 01:00:00</td>\n",
       "      <td>1432.04</td>\n",
       "    </tr>\n",
       "    <tr>\n",
       "      <th>...</th>\n",
       "      <td>...</td>\n",
       "      <td>...</td>\n",
       "    </tr>\n",
       "    <tr>\n",
       "      <th>128309</th>\n",
       "      <td>2021-04-19 23:00:00</td>\n",
       "      <td>2186.95</td>\n",
       "    </tr>\n",
       "    <tr>\n",
       "      <th>128310</th>\n",
       "      <td>2021-04-19 23:15:00</td>\n",
       "      <td>2156.19</td>\n",
       "    </tr>\n",
       "    <tr>\n",
       "      <th>128311</th>\n",
       "      <td>2021-04-19 23:30:00</td>\n",
       "      <td>2160.21</td>\n",
       "    </tr>\n",
       "    <tr>\n",
       "      <th>128312</th>\n",
       "      <td>2021-04-19 23:45:00</td>\n",
       "      <td>2161.12</td>\n",
       "    </tr>\n",
       "    <tr>\n",
       "      <th>128313</th>\n",
       "      <td>2021-04-20 00:00:00</td>\n",
       "      <td>2148.27</td>\n",
       "    </tr>\n",
       "  </tbody>\n",
       "</table>\n",
       "<p>4795 rows × 2 columns</p>\n",
       "</div>"
      ],
      "text/plain": [
       "                        ds        y\n",
       "123519 2021-03-01 00:00:00  1421.99\n",
       "123520 2021-03-01 00:15:00  1439.09\n",
       "123521 2021-03-01 00:30:00  1443.44\n",
       "123522 2021-03-01 00:45:00  1440.76\n",
       "123523 2021-03-01 01:00:00  1432.04\n",
       "...                    ...      ...\n",
       "128309 2021-04-19 23:00:00  2186.95\n",
       "128310 2021-04-19 23:15:00  2156.19\n",
       "128311 2021-04-19 23:30:00  2160.21\n",
       "128312 2021-04-19 23:45:00  2161.12\n",
       "128313 2021-04-20 00:00:00  2148.27\n",
       "\n",
       "[4795 rows x 2 columns]"
      ]
     },
     "execution_count": 11,
     "metadata": {},
     "output_type": "execute_result"
    }
   ],
   "source": [
    "test"
   ]
  },
  {
   "cell_type": "code",
   "execution_count": 12,
   "id": "39132ebe",
   "metadata": {},
   "outputs": [],
   "source": [
    "forecast = m.predict(test[['ds']])"
   ]
  },
  {
   "cell_type": "code",
   "execution_count": 13,
   "id": "12612340",
   "metadata": {},
   "outputs": [
    {
     "data": {
      "text/html": [
       "<div>\n",
       "<style scoped>\n",
       "    .dataframe tbody tr th:only-of-type {\n",
       "        vertical-align: middle;\n",
       "    }\n",
       "\n",
       "    .dataframe tbody tr th {\n",
       "        vertical-align: top;\n",
       "    }\n",
       "\n",
       "    .dataframe thead th {\n",
       "        text-align: right;\n",
       "    }\n",
       "</style>\n",
       "<table border=\"1\" class=\"dataframe\">\n",
       "  <thead>\n",
       "    <tr style=\"text-align: right;\">\n",
       "      <th></th>\n",
       "      <th>ds</th>\n",
       "      <th>trend</th>\n",
       "      <th>yhat_lower</th>\n",
       "      <th>yhat_upper</th>\n",
       "      <th>trend_lower</th>\n",
       "      <th>trend_upper</th>\n",
       "      <th>additive_terms</th>\n",
       "      <th>additive_terms_lower</th>\n",
       "      <th>additive_terms_upper</th>\n",
       "      <th>daily</th>\n",
       "      <th>...</th>\n",
       "      <th>weekly</th>\n",
       "      <th>weekly_lower</th>\n",
       "      <th>weekly_upper</th>\n",
       "      <th>yearly</th>\n",
       "      <th>yearly_lower</th>\n",
       "      <th>yearly_upper</th>\n",
       "      <th>multiplicative_terms</th>\n",
       "      <th>multiplicative_terms_lower</th>\n",
       "      <th>multiplicative_terms_upper</th>\n",
       "      <th>yhat</th>\n",
       "    </tr>\n",
       "  </thead>\n",
       "  <tbody>\n",
       "    <tr>\n",
       "      <th>0</th>\n",
       "      <td>2021-03-01 00:00:00</td>\n",
       "      <td>1741.995525</td>\n",
       "      <td>1746.093932</td>\n",
       "      <td>1899.254098</td>\n",
       "      <td>1741.995525</td>\n",
       "      <td>1741.995525</td>\n",
       "      <td>79.432297</td>\n",
       "      <td>79.432297</td>\n",
       "      <td>79.432297</td>\n",
       "      <td>0.552606</td>\n",
       "      <td>...</td>\n",
       "      <td>0.806655</td>\n",
       "      <td>0.806655</td>\n",
       "      <td>0.806655</td>\n",
       "      <td>78.073037</td>\n",
       "      <td>78.073037</td>\n",
       "      <td>78.073037</td>\n",
       "      <td>0.0</td>\n",
       "      <td>0.0</td>\n",
       "      <td>0.0</td>\n",
       "      <td>1821.427822</td>\n",
       "    </tr>\n",
       "    <tr>\n",
       "      <th>1</th>\n",
       "      <td>2021-03-01 00:15:00</td>\n",
       "      <td>1742.072913</td>\n",
       "      <td>1745.449294</td>\n",
       "      <td>1895.013314</td>\n",
       "      <td>1742.072913</td>\n",
       "      <td>1742.072913</td>\n",
       "      <td>79.530620</td>\n",
       "      <td>79.530620</td>\n",
       "      <td>79.530620</td>\n",
       "      <td>0.644698</td>\n",
       "      <td>...</td>\n",
       "      <td>0.827578</td>\n",
       "      <td>0.827578</td>\n",
       "      <td>0.827578</td>\n",
       "      <td>78.058344</td>\n",
       "      <td>78.058344</td>\n",
       "      <td>78.058344</td>\n",
       "      <td>0.0</td>\n",
       "      <td>0.0</td>\n",
       "      <td>0.0</td>\n",
       "      <td>1821.603533</td>\n",
       "    </tr>\n",
       "    <tr>\n",
       "      <th>2</th>\n",
       "      <td>2021-03-01 00:30:00</td>\n",
       "      <td>1742.150301</td>\n",
       "      <td>1744.704476</td>\n",
       "      <td>1895.485285</td>\n",
       "      <td>1742.150301</td>\n",
       "      <td>1742.150301</td>\n",
       "      <td>79.616483</td>\n",
       "      <td>79.616483</td>\n",
       "      <td>79.616483</td>\n",
       "      <td>0.724022</td>\n",
       "      <td>...</td>\n",
       "      <td>0.848848</td>\n",
       "      <td>0.848848</td>\n",
       "      <td>0.848848</td>\n",
       "      <td>78.043613</td>\n",
       "      <td>78.043613</td>\n",
       "      <td>78.043613</td>\n",
       "      <td>0.0</td>\n",
       "      <td>0.0</td>\n",
       "      <td>0.0</td>\n",
       "      <td>1821.766784</td>\n",
       "    </tr>\n",
       "    <tr>\n",
       "      <th>3</th>\n",
       "      <td>2021-03-01 00:45:00</td>\n",
       "      <td>1742.227689</td>\n",
       "      <td>1743.766323</td>\n",
       "      <td>1892.689389</td>\n",
       "      <td>1742.227689</td>\n",
       "      <td>1742.227689</td>\n",
       "      <td>79.686711</td>\n",
       "      <td>79.686711</td>\n",
       "      <td>79.686711</td>\n",
       "      <td>0.787419</td>\n",
       "      <td>...</td>\n",
       "      <td>0.870449</td>\n",
       "      <td>0.870449</td>\n",
       "      <td>0.870449</td>\n",
       "      <td>78.028842</td>\n",
       "      <td>78.028842</td>\n",
       "      <td>78.028842</td>\n",
       "      <td>0.0</td>\n",
       "      <td>0.0</td>\n",
       "      <td>0.0</td>\n",
       "      <td>1821.914400</td>\n",
       "    </tr>\n",
       "    <tr>\n",
       "      <th>4</th>\n",
       "      <td>2021-03-01 01:00:00</td>\n",
       "      <td>1742.305077</td>\n",
       "      <td>1744.753839</td>\n",
       "      <td>1896.998385</td>\n",
       "      <td>1742.305077</td>\n",
       "      <td>1742.305077</td>\n",
       "      <td>79.738845</td>\n",
       "      <td>79.738845</td>\n",
       "      <td>79.738845</td>\n",
       "      <td>0.832448</td>\n",
       "      <td>...</td>\n",
       "      <td>0.892363</td>\n",
       "      <td>0.892363</td>\n",
       "      <td>0.892363</td>\n",
       "      <td>78.014034</td>\n",
       "      <td>78.014034</td>\n",
       "      <td>78.014034</td>\n",
       "      <td>0.0</td>\n",
       "      <td>0.0</td>\n",
       "      <td>0.0</td>\n",
       "      <td>1822.043922</td>\n",
       "    </tr>\n",
       "  </tbody>\n",
       "</table>\n",
       "<p>5 rows × 22 columns</p>\n",
       "</div>"
      ],
      "text/plain": [
       "                   ds        trend   yhat_lower   yhat_upper  trend_lower  \\\n",
       "0 2021-03-01 00:00:00  1741.995525  1746.093932  1899.254098  1741.995525   \n",
       "1 2021-03-01 00:15:00  1742.072913  1745.449294  1895.013314  1742.072913   \n",
       "2 2021-03-01 00:30:00  1742.150301  1744.704476  1895.485285  1742.150301   \n",
       "3 2021-03-01 00:45:00  1742.227689  1743.766323  1892.689389  1742.227689   \n",
       "4 2021-03-01 01:00:00  1742.305077  1744.753839  1896.998385  1742.305077   \n",
       "\n",
       "   trend_upper  additive_terms  additive_terms_lower  additive_terms_upper  \\\n",
       "0  1741.995525       79.432297             79.432297             79.432297   \n",
       "1  1742.072913       79.530620             79.530620             79.530620   \n",
       "2  1742.150301       79.616483             79.616483             79.616483   \n",
       "3  1742.227689       79.686711             79.686711             79.686711   \n",
       "4  1742.305077       79.738845             79.738845             79.738845   \n",
       "\n",
       "      daily  ...    weekly  weekly_lower  weekly_upper     yearly  \\\n",
       "0  0.552606  ...  0.806655      0.806655      0.806655  78.073037   \n",
       "1  0.644698  ...  0.827578      0.827578      0.827578  78.058344   \n",
       "2  0.724022  ...  0.848848      0.848848      0.848848  78.043613   \n",
       "3  0.787419  ...  0.870449      0.870449      0.870449  78.028842   \n",
       "4  0.832448  ...  0.892363      0.892363      0.892363  78.014034   \n",
       "\n",
       "   yearly_lower  yearly_upper  multiplicative_terms  \\\n",
       "0     78.073037     78.073037                   0.0   \n",
       "1     78.058344     78.058344                   0.0   \n",
       "2     78.043613     78.043613                   0.0   \n",
       "3     78.028842     78.028842                   0.0   \n",
       "4     78.014034     78.014034                   0.0   \n",
       "\n",
       "   multiplicative_terms_lower  multiplicative_terms_upper         yhat  \n",
       "0                         0.0                         0.0  1821.427822  \n",
       "1                         0.0                         0.0  1821.603533  \n",
       "2                         0.0                         0.0  1821.766784  \n",
       "3                         0.0                         0.0  1821.914400  \n",
       "4                         0.0                         0.0  1822.043922  \n",
       "\n",
       "[5 rows x 22 columns]"
      ]
     },
     "execution_count": 13,
     "metadata": {},
     "output_type": "execute_result"
    }
   ],
   "source": [
    "forecast.head()"
   ]
  },
  {
   "cell_type": "code",
   "execution_count": 14,
   "id": "70aca422",
   "metadata": {},
   "outputs": [
    {
     "data": {
      "image/png": "[encoded data removed]",
      "text/plain": [
       "<Figure size 720x432 with 1 Axes>"
      ]
     },
     "execution_count": 14,
     "metadata": {},
     "output_type": "execute_result"
    },
    {
     "data": {
      "image/png": "[encoded data removed]",
      "text/plain": [
       "<Figure size 720x432 with 1 Axes>"
      ]
     },
     "metadata": {},
     "output_type": "display_data"
    }
   ],
   "source": [
    "m.plot(forecast)"
   ]
  },
  {
   "cell_type": "code",
   "execution_count": 15,
   "id": "6e7e8076",
   "metadata": {},
   "outputs": [],
   "source": [
    "test.set_index('ds', inplace=True)\n",
    "forecast.set_index('ds', inplace=True)"
   ]
  },
  {
   "cell_type": "code",
   "execution_count": 16,
   "id": "a50f2687",
   "metadata": {},
   "outputs": [],
   "source": [
    "viz_df = test.join(forecast[['yhat', 'yhat_lower','yhat_upper']])"
   ]
  },
  {
   "cell_type": "code",
   "execution_count": 17,
   "id": "3d285c72",
   "metadata": {},
   "outputs": [
    {
     "data": {
      "text/html": [
       "<div>\n",
       "<style scoped>\n",
       "    .dataframe tbody tr th:only-of-type {\n",
       "        vertical-align: middle;\n",
       "    }\n",
       "\n",
       "    .dataframe tbody tr th {\n",
       "        vertical-align: top;\n",
       "    }\n",
       "\n",
       "    .dataframe thead th {\n",
       "        text-align: right;\n",
       "    }\n",
       "</style>\n",
       "<table border=\"1\" class=\"dataframe\">\n",
       "  <thead>\n",
       "    <tr style=\"text-align: right;\">\n",
       "      <th></th>\n",
       "      <th>yhat</th>\n",
       "      <th>yhat_lower</th>\n",
       "      <th>yhat_upper</th>\n",
       "    </tr>\n",
       "    <tr>\n",
       "      <th>ds</th>\n",
       "      <th></th>\n",
       "      <th></th>\n",
       "      <th></th>\n",
       "    </tr>\n",
       "  </thead>\n",
       "  <tbody>\n",
       "    <tr>\n",
       "      <th>2021-03-01 00:00:00</th>\n",
       "      <td>1821.427822</td>\n",
       "      <td>1746.093932</td>\n",
       "      <td>1899.254098</td>\n",
       "    </tr>\n",
       "    <tr>\n",
       "      <th>2021-03-01 00:15:00</th>\n",
       "      <td>1821.603533</td>\n",
       "      <td>1745.449294</td>\n",
       "      <td>1895.013314</td>\n",
       "    </tr>\n",
       "    <tr>\n",
       "      <th>2021-03-01 00:30:00</th>\n",
       "      <td>1821.766784</td>\n",
       "      <td>1744.704476</td>\n",
       "      <td>1895.485285</td>\n",
       "    </tr>\n",
       "    <tr>\n",
       "      <th>2021-03-01 00:45:00</th>\n",
       "      <td>1821.914400</td>\n",
       "      <td>1743.766323</td>\n",
       "      <td>1892.689389</td>\n",
       "    </tr>\n",
       "    <tr>\n",
       "      <th>2021-03-01 01:00:00</th>\n",
       "      <td>1822.043922</td>\n",
       "      <td>1744.753839</td>\n",
       "      <td>1896.998385</td>\n",
       "    </tr>\n",
       "    <tr>\n",
       "      <th>...</th>\n",
       "      <td>...</td>\n",
       "      <td>...</td>\n",
       "      <td>...</td>\n",
       "    </tr>\n",
       "    <tr>\n",
       "      <th>2021-04-19 23:00:00</th>\n",
       "      <td>2551.335490</td>\n",
       "      <td>2335.314775</td>\n",
       "      <td>2761.432649</td>\n",
       "    </tr>\n",
       "    <tr>\n",
       "      <th>2021-04-19 23:15:00</th>\n",
       "      <td>2551.677125</td>\n",
       "      <td>2323.893371</td>\n",
       "      <td>2766.407833</td>\n",
       "    </tr>\n",
       "    <tr>\n",
       "      <th>2021-04-19 23:30:00</th>\n",
       "      <td>2552.020824</td>\n",
       "      <td>2325.364994</td>\n",
       "      <td>2774.965744</td>\n",
       "    </tr>\n",
       "    <tr>\n",
       "      <th>2021-04-19 23:45:00</th>\n",
       "      <td>2552.362692</td>\n",
       "      <td>2319.069756</td>\n",
       "      <td>2786.598097</td>\n",
       "    </tr>\n",
       "    <tr>\n",
       "      <th>2021-04-20 00:00:00</th>\n",
       "      <td>2552.698681</td>\n",
       "      <td>2325.353482</td>\n",
       "      <td>2777.576272</td>\n",
       "    </tr>\n",
       "  </tbody>\n",
       "</table>\n",
       "<p>4795 rows × 3 columns</p>\n",
       "</div>"
      ],
      "text/plain": [
       "                            yhat   yhat_lower   yhat_upper\n",
       "ds                                                        \n",
       "2021-03-01 00:00:00  1821.427822  1746.093932  1899.254098\n",
       "2021-03-01 00:15:00  1821.603533  1745.449294  1895.013314\n",
       "2021-03-01 00:30:00  1821.766784  1744.704476  1895.485285\n",
       "2021-03-01 00:45:00  1821.914400  1743.766323  1892.689389\n",
       "2021-03-01 01:00:00  1822.043922  1744.753839  1896.998385\n",
       "...                          ...          ...          ...\n",
       "2021-04-19 23:00:00  2551.335490  2335.314775  2761.432649\n",
       "2021-04-19 23:15:00  2551.677125  2323.893371  2766.407833\n",
       "2021-04-19 23:30:00  2552.020824  2325.364994  2774.965744\n",
       "2021-04-19 23:45:00  2552.362692  2319.069756  2786.598097\n",
       "2021-04-20 00:00:00  2552.698681  2325.353482  2777.576272\n",
       "\n",
       "[4795 rows x 3 columns]"
      ]
     },
     "execution_count": 17,
     "metadata": {},
     "output_type": "execute_result"
    }
   ],
   "source": [
    "forecast[['yhat', 'yhat_lower','yhat_upper']]"
   ]
  },
  {
   "cell_type": "code",
   "execution_count": 18,
   "id": "c4890499",
   "metadata": {},
   "outputs": [
    {
     "data": {
      "text/plain": [
       "Timestamp('2021-03-01 00:00:00')"
      ]
     },
     "execution_count": 18,
     "metadata": {},
     "output_type": "execute_result"
    }
   ],
   "source": [
    "test.index[0]"
   ]
  },
  {
   "cell_type": "code",
   "execution_count": 19,
   "id": "136d50c9",
   "metadata": {},
   "outputs": [
    {
     "data": {
      "text/plain": [
       "Timestamp('2021-03-01 00:00:00')"
      ]
     },
     "execution_count": 19,
     "metadata": {},
     "output_type": "execute_result"
    }
   ],
   "source": [
    "forecast.index[0]"
   ]
  },
  {
   "cell_type": "code",
   "execution_count": 20,
   "id": "96a13201",
   "metadata": {},
   "outputs": [
    {
     "data": {
      "text/html": [
       "<div>\n",
       "<style scoped>\n",
       "    .dataframe tbody tr th:only-of-type {\n",
       "        vertical-align: middle;\n",
       "    }\n",
       "\n",
       "    .dataframe tbody tr th {\n",
       "        vertical-align: top;\n",
       "    }\n",
       "\n",
       "    .dataframe thead th {\n",
       "        text-align: right;\n",
       "    }\n",
       "</style>\n",
       "<table border=\"1\" class=\"dataframe\">\n",
       "  <thead>\n",
       "    <tr style=\"text-align: right;\">\n",
       "      <th></th>\n",
       "      <th>y</th>\n",
       "      <th>yhat</th>\n",
       "      <th>yhat_lower</th>\n",
       "      <th>yhat_upper</th>\n",
       "    </tr>\n",
       "    <tr>\n",
       "      <th>ds</th>\n",
       "      <th></th>\n",
       "      <th></th>\n",
       "      <th></th>\n",
       "      <th></th>\n",
       "    </tr>\n",
       "  </thead>\n",
       "  <tbody>\n",
       "    <tr>\n",
       "      <th>2021-03-01 00:00:00</th>\n",
       "      <td>1421.99</td>\n",
       "      <td>1821.427822</td>\n",
       "      <td>1746.093932</td>\n",
       "      <td>1899.254098</td>\n",
       "    </tr>\n",
       "    <tr>\n",
       "      <th>2021-03-01 00:15:00</th>\n",
       "      <td>1439.09</td>\n",
       "      <td>1821.603533</td>\n",
       "      <td>1745.449294</td>\n",
       "      <td>1895.013314</td>\n",
       "    </tr>\n",
       "    <tr>\n",
       "      <th>2021-03-01 00:30:00</th>\n",
       "      <td>1443.44</td>\n",
       "      <td>1821.766784</td>\n",
       "      <td>1744.704476</td>\n",
       "      <td>1895.485285</td>\n",
       "    </tr>\n",
       "    <tr>\n",
       "      <th>2021-03-01 00:45:00</th>\n",
       "      <td>1440.76</td>\n",
       "      <td>1821.914400</td>\n",
       "      <td>1743.766323</td>\n",
       "      <td>1892.689389</td>\n",
       "    </tr>\n",
       "    <tr>\n",
       "      <th>2021-03-01 01:00:00</th>\n",
       "      <td>1432.04</td>\n",
       "      <td>1822.043922</td>\n",
       "      <td>1744.753839</td>\n",
       "      <td>1896.998385</td>\n",
       "    </tr>\n",
       "  </tbody>\n",
       "</table>\n",
       "</div>"
      ],
      "text/plain": [
       "                           y         yhat   yhat_lower   yhat_upper\n",
       "ds                                                                 \n",
       "2021-03-01 00:00:00  1421.99  1821.427822  1746.093932  1899.254098\n",
       "2021-03-01 00:15:00  1439.09  1821.603533  1745.449294  1895.013314\n",
       "2021-03-01 00:30:00  1443.44  1821.766784  1744.704476  1895.485285\n",
       "2021-03-01 00:45:00  1440.76  1821.914400  1743.766323  1892.689389\n",
       "2021-03-01 01:00:00  1432.04  1822.043922  1744.753839  1896.998385"
      ]
     },
     "execution_count": 20,
     "metadata": {},
     "output_type": "execute_result"
    }
   ],
   "source": [
    "viz_df.head()"
   ]
  },
  {
   "cell_type": "code",
   "execution_count": 21,
   "id": "7c1bc1cb",
   "metadata": {},
   "outputs": [
    {
     "data": {
      "text/plain": [
       "<matplotlib.axes._subplots.AxesSubplot at 0x12a003760>"
      ]
     },
     "execution_count": 21,
     "metadata": {},
     "output_type": "execute_result"
    },
    {
     "data": {
      "image/png": "[encoded data removed]",
      "text/plain": [
       "<Figure size 432x288 with 1 Axes>"
      ]
     },
     "metadata": {
      "needs_background": "light"
     },
     "output_type": "display_data"
    }
   ],
   "source": [
    "viz_df.plot()"
   ]
  },
  {
   "cell_type": "code",
   "execution_count": null,
   "id": "e4ada128",
   "metadata": {},
   "outputs": [],
   "source": []
  }
 ],
 "metadata": {
  "kernelspec": {
   "display_name": "Python 3",
   "language": "python",
   "name": "python3"
  },
  "language_info": {
   "codemirror_mode": {
    "name": "ipython",
    "version": 3
   },
   "file_extension": ".py",
   "mimetype": "text/x-python",
   "name": "python",
   "nbconvert_exporter": "python",
   "pygments_lexer": "ipython3",
   "version": "3.9.1"
  }
 },
 "nbformat": 4,
 "nbformat_minor": 5
}
